{
 "cells": [
  {
   "cell_type": "code",
   "execution_count": 1,
   "metadata": {},
   "outputs": [
    {
     "name": "stderr",
     "output_type": "stream",
     "text": [
      "2022-08-09 13:52:00.611839: W tensorflow/stream_executor/platform/default/dso_loader.cc:64] Could not load dynamic library 'libcudart.so.11.0'; dlerror: libcudart.so.11.0: cannot open shared object file: No such file or directory\n",
      "2022-08-09 13:52:00.611875: I tensorflow/stream_executor/cuda/cudart_stub.cc:29] Ignore above cudart dlerror if you do not have a GPU set up on your machine.\n"
     ]
    }
   ],
   "source": [
    "import tensorflow as tf\n",
    "from tensorflow import keras"
   ]
  },
  {
   "cell_type": "code",
   "execution_count": null,
   "metadata": {},
   "outputs": [],
   "source": [
    "epochs = 1000\n",
    "num_batches = 250\n",
    "batch_size = 2\n",
    "\n",
    "#Fixed parameters\n",
    "def lr_schedule(epoch,lr):\n",
    "    lr *=1-(epoch/epochs)**0.9\n",
    "    return lr\n",
    "\n",
    "lr = tf.keras.callbacks.LearningRateScheduler(lr_schedule)\n",
    "\n",
    "def DiceLoss(targets, inputs, smooth=1e-6):\n",
    "    \n",
    "    #flatten label and prediction tensors\n",
    "    inputs = keras.backend.flatten(inputs)\n",
    "    targets = keras.backend.flatten(targets)\n",
    "    \n",
    "    intersection = keras.backend.sum(keras.backend.dot(targets, inputs))\n",
    "    dice = (2*intersection + smooth) / (keras.backend.sum(targets) + keras.backend.sum(inputs) + smooth)\n",
    "    return 1 - dice\n",
    "\n",
    "loss1 = keras.losses.CategoricalCrossentropy()\n",
    "loss2 = DiceLoss()\n",
    "loss = loss1 + loss2\n",
    "\n",
    "Optimizer = keras.optimizer.SGD(lr,momentum=0.99,nesterov=True, name='SGD')\n",
    "\n"
   ]
  },
  {
   "cell_type": "code",
   "execution_count": null,
   "metadata": {},
   "outputs": [],
   "source": [
    "def NN_UNet():\n",
    "    inputs = keras.Input()\n",
    "\n",
    "    #Downsampeling\n",
    "    x = keras.layers.Conv2D(32,3)(inputs)\n",
    "    x = keras.layers.Normalization()(x)\n",
    "    x = keras.layers.LeakyReLU(0.01)(x)\n",
    "    l1 = x\n",
    "\n",
    "    x = keras.layers.Conv2D(64,3)(x)\n",
    "    x = keras.layers.Normalization()(x)\n",
    "    x = keras.layers.LeakyReLU(0.01)(x)\n",
    "    l2 = x\n",
    "\n",
    "    x = keras.layers.Conv2D(128,3)(x)\n",
    "    x = keras.layers.Normalization()(x)\n",
    "    x = keras.layers.LeakyReLU(0.01)(x)\n",
    "    l3 = x\n",
    "\n",
    "    x = keras.layers.Conv2D(256,3)(x)\n",
    "    x = keras.layers.Normalization()(x)\n",
    "    x = keras.layers.LeakyReLU(0.01)(x)\n",
    "    l4 = x\n",
    "\n",
    "    x = keras.layers.Conv2D(512,3)(x)\n",
    "    x = keras.layers.Normalization()(x)\n",
    "    x = keras.layers.LeakyReLU(0.01)(x)\n",
    "    l5 = x\n",
    "    #Upsampleing\n",
    "\n",
    "    x = keras.layers.Conv2DTranspose(512,3)(x)\n",
    "    x = keras.layers.Normalization()(x)\n",
    "    x = keras.layers.LeakyReLU(0.01)(x)\n",
    "    l1 = x\n"
   ]
  }
 ],
 "metadata": {
  "kernelspec": {
   "display_name": "Python 3.9.12 ('aml_projekt')",
   "language": "python",
   "name": "python3"
  },
  "language_info": {
   "codemirror_mode": {
    "name": "ipython",
    "version": 3
   },
   "file_extension": ".py",
   "mimetype": "text/x-python",
   "name": "python",
   "nbconvert_exporter": "python",
   "pygments_lexer": "ipython3",
   "version": "3.9.12"
  },
  "orig_nbformat": 4,
  "vscode": {
   "interpreter": {
    "hash": "3e52e4c377c8bfd8db5d394792a60698c1ae2e0ec2bf08131743554f4058fdfe"
   }
  }
 },
 "nbformat": 4,
 "nbformat_minor": 2
}
